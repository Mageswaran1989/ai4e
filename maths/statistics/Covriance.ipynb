{
 "cells": [
  {
   "cell_type": "markdown",
   "metadata": {},
   "source": [
    "# Covraiance\n",
    "https://datascienceplus.com/understanding-the-covariance-matrix/"
   ]
  },
  {
   "cell_type": "markdown",
   "metadata": {},
   "source": [
    "Variance: $\n",
    "\\sigma^2_x = \\frac{1}{n-1} \\sum^{n}_{i=1}(x_i – \\bar{x})^2 \\\\\n",
    "$\n",
    "\n",
    "Covriance of two random variable is given by:\n",
    "$\n",
    "\\sigma(x, y) = \\frac{1}{n-1} \\sum^{n}_{i=1}{(x_i-\\bar{x})(y_i-\\bar{y})}\n",
    "$\n",
    "\n",
    "Covariance Matrix is given by:\n",
    "$\n",
    "C = \\frac{1}{n-1} \\sum^{n}_{i=1}{(X_i-\\bar{X})(X_i-\\bar{X})^T}\n",
    "$\n",
    "\n",
    "$C \\in \\mathbb{R}^{d \\times d}$\n",
    "\n",
    "$X \\in \\mathbb{R}^{n \\times d}$\n",
    "\n",
    "Covariance matrix for two dimensions is given by\n",
    "$C = \\left( \\begin{array}{ccc}  \\sigma(x, x) & \\sigma(x, y) \\\\  \\sigma(y, x) & \\sigma(y, y) \\end{array} \\right)$"
   ]
  },
  {
   "cell_type": "code",
   "execution_count": 3,
   "metadata": {},
   "outputs": [],
   "source": [
    "import numpy as np\n",
    "import matplotlib.pyplot as plt\n",
    "%matplotlib inline\n",
    "\n",
    "plt.style.use('ggplot')\n",
    "plt.rcParams['figure.figsize'] = (12, 8)"
   ]
  },
  {
   "cell_type": "markdown",
   "metadata": {},
   "source": [
    "Covriance Matrix navie implementation"
   ]
  },
  {
   "cell_type": "code",
   "execution_count": 3,
   "metadata": {},
   "outputs": [],
   "source": [
    "def mean_naive(X):\n",
    "    \"\"\"Compute the sample mean for a dataset by iterating over the dataset.\n",
    "    \n",
    "    Args:\n",
    "        X: `ndarray` of shape (N, D) representing the dataset. N \n",
    "        is the size of the dataset and D is the dimensionality of the dataset.\n",
    "    Returns:\n",
    "        mean: `ndarray` of shape (D, ), the sample mean of the dataset `X`.\n",
    "    \"\"\"\n",
    "    # iterate over the dataset and compute the mean vector.\n",
    "    N, D = X.shape\n",
    "    mean = np.zeros((D,))\n",
    "    for n in range(N):\n",
    "        # Update the mean vector\n",
    "        mean = mean + X[n]/N\n",
    "    return mean\n",
    "\n",
    "def cov_naive(X):\n",
    "    \"\"\"Compute the sample covariance for a dataset by iterating over the dataset.\n",
    "    \n",
    "    Args:\n",
    "        X: `ndarray` of shape (N, D) representing the dataset. N \n",
    "        is the size of the dataset and D is the dimensionality of the dataset.\n",
    "    Returns:\n",
    "        ndarray: ndarray with shape (D, D), the sample covariance of the dataset `X`.\n",
    "    \"\"\"\n",
    "    X = np.array(X)\n",
    "    N, D = X.shape\n",
    "    covariance = np.zeros((D, D))\n",
    "    mat = np.zeros((N, D))\n",
    "    mean = mean_naive(X)\n",
    "    \n",
    "    for i in range(N):\n",
    "        mat[i] = X[i,:] - mean\n",
    "        \n",
    "    for i in range(D):\n",
    "        for j in range(D):\n",
    "            covariance[i, j] = covariance[i, j] + mat[:,i]@mat[:,j]\n",
    "            \n",
    "    return covariance/N"
   ]
  },
  {
   "cell_type": "markdown",
   "metadata": {},
   "source": [
    "Covriance improved variant..."
   ]
  },
  {
   "cell_type": "code",
   "execution_count": 4,
   "metadata": {},
   "outputs": [],
   "source": [
    "def mean(X):\n",
    "    \"\"\"Compute the sample mean for a dataset.\n",
    "    \n",
    "    Args:\n",
    "        X: `ndarray` of shape (N, D) representing the dataset. N \n",
    "        is the size of the dataset and D is the dimensionality of the dataset.\n",
    "    Returns:\n",
    "        ndarray: ndarray with shape (D,), the sample mean of the dataset `X`.\n",
    "    \"\"\"\n",
    "    n = X.shape[0]\n",
    "    m = np.sum(X, axis=0) / n\n",
    "    return m\n",
    "\n",
    "def cov(X):\n",
    "    \"\"\"Compute the sample covariance for a dataset.\n",
    "    \n",
    "    Args:\n",
    "        X: `ndarray` of shape (N, D) representing the dataset. N \n",
    "        is the size of the dataset and D is the dimensionality of the dataset.\n",
    "    Returns:\n",
    "        ndarray: ndarray with shape (D, D), the sample covariance of the dataset `X`.\n",
    "    \"\"\"\n",
    "    X = np.array(X)\n",
    "    N, D = X.shape\n",
    "    Xbar = mean(X)\n",
    "    \n",
    "    diff = X - Xbar\n",
    "    \n",
    "    covariance_matrix = diff.T @ diff # D x N . N x D\n",
    "    covariance_matrix = covariance_matrix / N\n",
    "    return covariance_matrix"
   ]
  },
  {
   "cell_type": "code",
   "execution_count": 6,
   "metadata": {},
   "outputs": [],
   "source": [
    "# Normal distributed x and y vector with mean 0 and standard deviation 1\n",
    "x = np.random.normal(0, 1, 500)\n",
    "y = np.random.normal(0, 1, 500)\n",
    "X = np.vstack((x, y)).T"
   ]
  },
  {
   "cell_type": "code",
   "execution_count": 14,
   "metadata": {},
   "outputs": [
    {
     "data": {
      "text/plain": [
       "(-3.0933675359913257, 3.277448879970829, -2.830539200195394, 2.821691435696737)"
      ]
     },
     "execution_count": 14,
     "metadata": {},
     "output_type": "execute_result"
    },
    {
     "data": {
      "image/png": "[encoded data removed]",
      "text/plain": [
       "<Figure size 864x576 with 1 Axes>"
      ]
     },
     "metadata": {},
     "output_type": "display_data"
    }
   ],
   "source": [
    "plt.scatter(X[:,0], X[:,1])\n",
    "plt.title(\"Generated Data\")\n",
    "plt.axis('equal')"
   ]
  },
  {
   "cell_type": "markdown",
   "metadata": {},
   "source": [
    "This case would mean that x and y are independent (or uncorrelated) and the covariance matrix C is\n",
    "$C = \\left( \\begin{array}{ccc}  \\sigma_x^2 & 0 \\\\  0 & \\sigma_y^2 \\end{array} \\right)$"
   ]
  },
  {
   "cell_type": "code",
   "execution_count": 15,
   "metadata": {},
   "outputs": [
    {
     "data": {
      "text/plain": [
       "array([[ 1.12409792, -0.00254509],\n",
       "       [-0.00254509,  0.92203309]])"
      ]
     },
     "execution_count": 15,
     "metadata": {},
     "output_type": "execute_result"
    }
   ],
   "source": [
    "cov(X)"
   ]
  },
  {
   "cell_type": "code",
   "execution_count": 17,
   "metadata": {},
   "outputs": [
    {
     "data": {
      "text/plain": [
       "array([[ 1.12409792, -0.00254509],\n",
       "       [-0.00254509,  0.92203309]])"
      ]
     },
     "execution_count": 17,
     "metadata": {},
     "output_type": "execute_result"
    }
   ],
   "source": [
    "cov_naive(X)"
   ]
  },
  {
   "cell_type": "code",
   "execution_count": 23,
   "metadata": {},
   "outputs": [
    {
     "data": {
      "text/plain": [
       "array([[ 1.12409792, -0.00254509],\n",
       "       [-0.00254509,  0.92203309]])"
      ]
     },
     "execution_count": 23,
     "metadata": {},
     "output_type": "execute_result"
    }
   ],
   "source": [
    "np.cov(X, bias=True, rowvar=False)"
   ]
  },
  {
   "cell_type": "markdown",
   "metadata": {},
   "source": [
    "## Linear Transformations of the Data Set\n",
    "\n",
    "Scaling matrix $S = \\left( \\begin{array}{ccc}  s_x & 0 \\\\  0 & s_y \\end{array} \\right)$\n",
    "\n",
    "Covariance matrix C  of our transformed data set will simply be $C = \\left( \\begin{array}{ccc}  (s_x\\sigma_x)^2 & 0 \\\\  0 & (s_y\\sigma_y)^2 \\end{array} \\right)$\n",
    "\n",
    "which means that we can extract the scaling matrix from our covariance matrix by calculating $S = \\sqrt{C}$ and the data is transformed by $Y = SX$ ."
   ]
  },
  {
   "cell_type": "code",
   "execution_count": 25,
   "metadata": {},
   "outputs": [
    {
     "data": {
      "text/plain": [
       "array([-1.07818284,  0.34696643])"
      ]
     },
     "execution_count": 25,
     "metadata": {},
     "output_type": "execute_result"
    }
   ],
   "source": [
    "X[0]"
   ]
  },
  {
   "cell_type": "code",
   "execution_count": 26,
   "metadata": {},
   "outputs": [],
   "source": [
    "X = X - np.mean(X, 0)"
   ]
  },
  {
   "cell_type": "code",
   "execution_count": 27,
   "metadata": {},
   "outputs": [
    {
     "data": {
      "text/plain": [
       "array([-1.15180932,  0.33821684])"
      ]
     },
     "execution_count": 27,
     "metadata": {},
     "output_type": "execute_result"
    }
   ],
   "source": [
    "X[0]"
   ]
  },
  {
   "cell_type": "code",
   "execution_count": 28,
   "metadata": {},
   "outputs": [
    {
     "data": {
      "text/plain": [
       "(-2.216895805383429, 2.2426756857900787, -9.653581882312688, 9.564002279720555)"
      ]
     },
     "execution_count": 28,
     "metadata": {},
     "output_type": "execute_result"
    },
    {
     "data": {
      "image/png": "[encoded data removed]",
      "text/plain": [
       "<Figure size 864x576 with 1 Axes>"
      ]
     },
     "metadata": {},
     "output_type": "display_data"
    }
   ],
   "source": [
    "\n",
    "# Scaling matrix\n",
    "sx, sy = 0.7, 3.4\n",
    "Scale = np.array([[sx, 0], [0, sy]])\n",
    "\n",
    "# Apply scaling matrix to X\n",
    "Y = X.dot(Scale)\n",
    "\n",
    "plt.scatter(Y[:, 0], Y[:, 1])\n",
    "plt.title('Transformed Data')\n",
    "plt.axis('equal')"
   ]
  },
  {
   "cell_type": "code",
   "execution_count": 33,
   "metadata": {},
   "outputs": [
    {
     "data": {
      "text/plain": [
       "array([[ 5.51911805e-01, -6.06945876e-03],\n",
       "       [-6.06945876e-03,  1.06800627e+01]])"
      ]
     },
     "execution_count": 33,
     "metadata": {},
     "output_type": "execute_result"
    }
   ],
   "source": [
    "np.cov(Y.T)"
   ]
  },
  {
   "cell_type": "code",
   "execution_count": 34,
   "metadata": {},
   "outputs": [
    {
     "name": "stderr",
     "output_type": "stream",
     "text": [
      "<ipython-input-34-9cfac0cf8fc5>:1: RuntimeWarning: invalid value encountered in sqrt\n",
      "  np.sqrt(np.cov(Y.T))\n"
     ]
    },
    {
     "data": {
      "text/plain": [
       "array([[0.74290767,        nan],\n",
       "       [       nan, 3.26803652]])"
      ]
     },
     "execution_count": 34,
     "metadata": {},
     "output_type": "execute_result"
    }
   ],
   "source": [
    "np.sqrt(np.cov(Y.T))"
   ]
  },
  {
   "cell_type": "markdown",
   "metadata": {},
   "source": [
    "We can see that this does in fact approximately match our expectation. This relation holds when the data is scaled in \n",
    "x  and y direction, but it gets more involved for other linear transformations.\n",
    "\n"
   ]
  },
  {
   "cell_type": "markdown",
   "metadata": {},
   "source": [
    "$T = RS$\n",
    "\n",
    "$R = \\left( \\begin{array}{ccc}  cos(\\theta) & -sin(\\theta) \\\\  sin(\\theta) & cos(\\theta) \\end{array} \\right)$\n",
    "\n",
    "The transformed data is then calculated by $Y=RSX$"
   ]
  },
  {
   "cell_type": "code",
   "execution_count": 36,
   "metadata": {},
   "outputs": [],
   "source": [
    "# Rotation matrix\n",
    "theta = 0.77*np.pi\n",
    "c, s = np.cos(theta), np.sin(theta)\n",
    "Rot = np.array([[c, -s], [s, c]])\n",
    "\n",
    "# Transformation matrix\n",
    "T = Scale.dot(Rot)\n",
    "\n",
    "# Apply transformation matrix to X\n",
    "Y = X.dot(T)"
   ]
  },
  {
   "cell_type": "code",
   "execution_count": 37,
   "metadata": {},
   "outputs": [
    {
     "data": {
      "image/png": "[encoded data removed]",
      "text/plain": [
       "<Figure size 864x576 with 1 Axes>"
      ]
     },
     "metadata": {},
     "output_type": "display_data"
    }
   ],
   "source": [
    "plt.scatter(Y[:, 0], Y[:, 1])\n",
    "plt.title('Transformed Data')\n",
    "plt.axis('equal');"
   ]
  },
  {
   "cell_type": "markdown",
   "metadata": {},
   "source": [
    "**This leads to the question of how to decompose the covariance matrix C into a rotation matrix R and a scaling matrix S.**"
   ]
  },
  {
   "cell_type": "markdown",
   "metadata": {},
   "source": [
    "## Eigen Decomposition of the Covariance Matrix\n",
    "Eigen Decomposition is one connection between a linear transformation and the covariance matrix. An eigenvector is a vector whose direction remains unchanged when a linear transformation is applied to it. It can be expressed as\n",
    "\n",
    "$$Av=\\lambda v$$\n",
    "\n",
    "where v is an eigenvector of A and λ is the corresponding eigenvalue. If we put all **eigenvectors into the columns of a Matrix V** and **all eigenvalues as the entries of a diagonal matrix L** we can write for our covariance matrix C the following equation\n",
    "\n",
    "$$CV = VL$$\n",
    "\n",
    "where the covariance matrix can be represented as\n",
    "\n",
    "$$C = VLV^{-1}$$\n",
    "\n",
    "where the rotation matrix $R = V$  and the scaling matrix $S = √L$. From the previous linear transformation $T = RS$ we can derive\n",
    "$$C = RSSR^{-1} = TT^T$$"
   ]
  },
  {
   "cell_type": "code",
   "execution_count": 40,
   "metadata": {},
   "outputs": [
    {
     "data": {
      "text/plain": [
       "array([[ 4.98731189, -5.0249044 ],\n",
       "       [-5.0249044 ,  6.24466259]])"
      ]
     },
     "execution_count": 40,
     "metadata": {},
     "output_type": "execute_result"
    }
   ],
   "source": [
    "C = np.cov(Y.T)\n",
    "C"
   ]
  },
  {
   "cell_type": "code",
   "execution_count": 42,
   "metadata": {},
   "outputs": [
    {
     "name": "stdout",
     "output_type": "stream",
     "text": [
      "[ 0.55190817 10.68006632]\n",
      "[[-0.74971463  0.66176126]\n",
      " [-0.66176126 -0.74971463]]\n"
     ]
    }
   ],
   "source": [
    "# Calculate eigenvalues\n",
    "eVa, eVe = np.linalg.eig(C)\n",
    "print(eVa)\n",
    "print(eVe)"
   ]
  },
  {
   "cell_type": "code",
   "execution_count": 43,
   "metadata": {},
   "outputs": [],
   "source": [
    "# Calculate transformation matrix from eigen decomposition\n",
    "R, S = eVe, np.diag(np.sqrt(eVa))\n",
    "T = R.dot(S).T"
   ]
  },
  {
   "cell_type": "code",
   "execution_count": 44,
   "metadata": {},
   "outputs": [
    {
     "data": {
      "image/png": "[encoded data removed]",
      "text/plain": [
       "<Figure size 864x576 with 1 Axes>"
      ]
     },
     "metadata": {},
     "output_type": "display_data"
    }
   ],
   "source": [
    "# Transform data with inverse transformation matrix T^-1\n",
    "Z = Y.dot(np.linalg.inv(T))\n",
    "\n",
    "plt.scatter(Z[:, 0], Z[:, 1])\n",
    "plt.title('Uncorrelated Data')\n",
    "plt.axis('equal');"
   ]
  },
  {
   "cell_type": "code",
   "execution_count": null,
   "metadata": {},
   "outputs": [],
   "source": []
  },
  {
   "cell_type": "code",
   "execution_count": null,
   "metadata": {},
   "outputs": [],
   "source": []
  },
  {
   "cell_type": "code",
   "execution_count": null,
   "metadata": {},
   "outputs": [],
   "source": []
  },
  {
   "cell_type": "code",
   "execution_count": null,
   "metadata": {},
   "outputs": [],
   "source": []
  },
  {
   "cell_type": "code",
   "execution_count": 8,
   "metadata": {},
   "outputs": [
    {
     "data": {
      "text/plain": [
       "-7"
      ]
     },
     "execution_count": 8,
     "metadata": {},
     "output_type": "execute_result"
    }
   ],
   "source": [
    "np.dot(np.array([1,2,3]), np.array([2,3,-5]))"
   ]
  },
  {
   "cell_type": "code",
   "execution_count": 7,
   "metadata": {},
   "outputs": [
    {
     "data": {
      "text/plain": [
       "5.385164807134504"
      ]
     },
     "execution_count": 7,
     "metadata": {},
     "output_type": "execute_result"
    }
   ],
   "source": [
    "np.cos(-1/5*np.sqrt(2))"
   ]
  },
  {
   "cell_type": "code",
   "execution_count": 13,
   "metadata": {},
   "outputs": [
    {
     "data": {
      "text/plain": [
       "0.9602659565705262"
      ]
     },
     "execution_count": 13,
     "metadata": {},
     "output_type": "execute_result"
    }
   ],
   "source": [
    "np.cos(-7/np.sqrt(15)*np.sqrt(33)"
   ]
  },
  {
   "cell_type": "code",
   "execution_count": 10,
   "metadata": {},
   "outputs": [
    {
     "data": {
      "text/plain": [
       "0.6967067093471654"
      ]
     },
     "execution_count": 10,
     "metadata": {},
     "output_type": "execute_result"
    }
   ],
   "source": [
    "np.cos(4/5)"
   ]
  },
  {
   "cell_type": "code",
   "execution_count": 47,
   "metadata": {},
   "outputs": [],
   "source": [
    "import math\n",
    "def length(x):\n",
    "  \"\"\"Compute the length of a vector\"\"\"\n",
    "  length_x = np.sqrt(np.sum(np.square(x))) # <--- compute the length of a vector x here.\n",
    "  \n",
    "  return length_x\n",
    "def angle(x, y):\n",
    "    x = np.array(x)\n",
    "    y = np.array(y)\n",
    "    print(x.dot(y))\n",
    "    print(length(x))\n",
    "    print(length(y))\n",
    "    return math.acos(x.dot(y)/(length(x)*length(y)))"
   ]
  },
  {
   "cell_type": "code",
   "execution_count": 45,
   "metadata": {},
   "outputs": [],
   "source": [
    "\n",
    "import math\n",
    "\n",
    "def dotproduct(v1, v2):\n",
    "  return sum((a*b) for a, b in zip(v1, v2))\n",
    "\n",
    "def length(v):\n",
    "  return math.sqrt(dotproduct(v, v))\n",
    "\n",
    "def angle(v1, v2):\n",
    "    v1 = np.array(v1)\n",
    "    v2 = np.array(v2)\n",
    "    print(dotproduct(v1, v2))\n",
    "    print(length(v1))\n",
    "    print(length(v2))\n",
    "    return math.acos(dotproduct(v1, v2) / (length(v1) * length(v2)))"
   ]
  },
  {
   "cell_type": "code",
   "execution_count": 48,
   "metadata": {},
   "outputs": [
    {
     "name": "stdout",
     "output_type": "stream",
     "text": [
      "-7\n",
      "5.0\n",
      "1.4142135623730951\n"
     ]
    },
    {
     "data": {
      "text/plain": [
       "2.9996955989856287"
      ]
     },
     "execution_count": 48,
     "metadata": {},
     "output_type": "execute_result"
    }
   ],
   "source": [
    "angle([3,4],[-1,-1])"
   ]
  },
  {
   "cell_type": "code",
   "execution_count": 32,
   "metadata": {},
   "outputs": [
    {
     "data": {
      "text/plain": [
       "2.002829357226812"
      ]
     },
     "execution_count": 32,
     "metadata": {},
     "output_type": "execute_result"
    }
   ],
   "source": [
    "angle([1,2,3], [2,2,-5])"
   ]
  },
  {
   "cell_type": "code",
   "execution_count": 21,
   "metadata": {},
   "outputs": [
    {
     "data": {
      "text/plain": [
       "5.385164807134504"
      ]
     },
     "execution_count": 21,
     "metadata": {},
     "output_type": "execute_result"
    }
   ],
   "source": [
    "np.sqrt(4+25)"
   ]
  },
  {
   "cell_type": "code",
   "execution_count": 102,
   "metadata": {},
   "outputs": [],
   "source": [
    "def beta(A):\n",
    "    x = np.array([1,0])\n",
    "    y = np.array([0,1])\n",
    "    dot = x.dot(y)\n",
    "    iprod1 = x.T @ A @ y\n",
    "    iprod2 = y.T @ A @ x\n",
    "    val, _ = np.linalg.eig(A)\n",
    "    # dot, bilinear, definite, symetric\n",
    "    print(dot),\n",
    "    print(iprod1)\n",
    "    print(\"Is Bilinear \\t\\t\", iprod1==iprod2)\n",
    "    print(\"Is Positive definite, \", np.all(val > 0))\n",
    "    print(\"Is Symetric\\t\\t \", np.allclose(A, A.T))\n",
    "    print(\"Is inner product \", dot == iprod1)"
   ]
  },
  {
   "cell_type": "code",
   "execution_count": 104,
   "metadata": {},
   "outputs": [
    {
     "name": "stdout",
     "output_type": "stream",
     "text": [
      "0\n",
      "-1\n",
      "Is Bilinaer \t\t True\n",
      "Is Positive definite,  True\n",
      "Is Symetric\t\t  True\n",
      "Is inner product  False\n"
     ]
    }
   ],
   "source": [
    "beta(np.array([[2,-1],[-1,1]]))"
   ]
  },
  {
   "cell_type": "code",
   "execution_count": 105,
   "metadata": {},
   "outputs": [
    {
     "name": "stdout",
     "output_type": "stream",
     "text": [
      "0\n",
      "-1\n",
      "Is Bilinaer \t\t True\n",
      "Is Positive definite,  False\n",
      "Is Symetric\t\t  True\n",
      "Is inner product  False\n"
     ]
    }
   ],
   "source": [
    "beta(np.array([[1,-1],[-1,1]]))"
   ]
  },
  {
   "cell_type": "code",
   "execution_count": 106,
   "metadata": {},
   "outputs": [
    {
     "name": "stdout",
     "output_type": "stream",
     "text": [
      "0\n",
      "1\n",
      "Is Bilinaer \t\t False\n",
      "Is Positive definite,  True\n",
      "Is Symetric\t\t  False\n",
      "Is inner product  False\n"
     ]
    }
   ],
   "source": [
    "beta(np.array([[2,1],[-1,1]]))"
   ]
  },
  {
   "cell_type": "code",
   "execution_count": 107,
   "metadata": {},
   "outputs": [
    {
     "name": "stdout",
     "output_type": "stream",
     "text": [
      "0\n",
      "0\n",
      "Is Bilinaer \t\t True\n",
      "Is Positive definite,  True\n",
      "Is Symetric\t\t  True\n",
      "Is inner product  True\n"
     ]
    }
   ],
   "source": [
    "beta(np.array([[1,0],[0,1]]))"
   ]
  },
  {
   "cell_type": "code",
   "execution_count": 109,
   "metadata": {},
   "outputs": [],
   "source": [
    "def innnerproductlength(a,b,A):\n",
    "    return a.T @ A @ b"
   ]
  },
  {
   "cell_type": "code",
   "execution_count": 111,
   "metadata": {},
   "outputs": [
    {
     "data": {
      "text/plain": [
       "26"
      ]
     },
     "execution_count": 111,
     "metadata": {},
     "output_type": "execute_result"
    }
   ],
   "source": [
    "A = np.array([[2,1,0],[1,2,-1],[0,-1,2]])\n",
    "innnerproductlength(np.array([1,-1,3]),np.array([1,-1,3]), A )"
   ]
  },
  {
   "cell_type": "code",
   "execution_count": 115,
   "metadata": {},
   "outputs": [
    {
     "data": {
      "text/plain": [
       "5.0"
      ]
     },
     "execution_count": 115,
     "metadata": {},
     "output_type": "execute_result"
    }
   ],
   "source": [
    "A = np.array([[2,1,0],[1,2,-1],[0,-1,2]])\n",
    "x = np.array([1/2,-1,-1/2])\n",
    "y = np.array([0,1,0])\n",
    "innnerproductlength(x-y,x-y,A)"
   ]
  },
  {
   "cell_type": "code",
   "execution_count": 117,
   "metadata": {},
   "outputs": [
    {
     "data": {
      "text/plain": [
       "6.0"
      ]
     },
     "execution_count": 117,
     "metadata": {},
     "output_type": "execute_result"
    }
   ],
   "source": [
    "A = np.array([[5/2,-1/2],[-1/2,5/2]])\n",
    "x = np.array([-1,1])\n",
    "y = np.array([-1,1])\n",
    "innnerproductlength(x,x,A)"
   ]
  },
  {
   "cell_type": "code",
   "execution_count": 118,
   "metadata": {},
   "outputs": [
    {
     "data": {
      "text/plain": [
       "42"
      ]
     },
     "execution_count": 118,
     "metadata": {},
     "output_type": "execute_result"
    }
   ],
   "source": [
    "A = np.array([[2,1,0],[1,2,-1],[0,-1,2]])\n",
    "x = np.array([4,2,1])\n",
    "y = np.array([0,1,0])\n",
    "innnerproductlength(x-y,x-y,A)"
   ]
  },
  {
   "cell_type": "code",
   "execution_count": 119,
   "metadata": {},
   "outputs": [
    {
     "data": {
      "text/plain": [
       "6.48074069840786"
      ]
     },
     "execution_count": 119,
     "metadata": {},
     "output_type": "execute_result"
    }
   ],
   "source": [
    "np.sqrt(42)"
   ]
  },
  {
   "cell_type": "markdown",
   "metadata": {},
   "source": [
    "### Angles between vectors using a non-standard inner product"
   ]
  },
  {
   "cell_type": "code",
   "execution_count": 186,
   "metadata": {},
   "outputs": [],
   "source": [
    "import math\n",
    "def length(x,y,A):\n",
    "    return (x.T @ A @ y)\n",
    "def angleinrad(x,y,A):\n",
    "    return np.arccos(length(x,y, A) / np.sqrt(length(x,x, A) * length(y,y,A)))"
   ]
  },
  {
   "cell_type": "code",
   "execution_count": 187,
   "metadata": {},
   "outputs": [
    {
     "data": {
      "text/plain": [
       "1.9106332362490186"
      ]
     },
     "execution_count": 187,
     "metadata": {},
     "output_type": "execute_result"
    }
   ],
   "source": [
    "A = np.array([[2,0],[0,1]])\n",
    "x = np.array([1,1])\n",
    "y = np.array([-1,1])\n",
    "angleinrad(x,y,A)"
   ]
  },
  {
   "cell_type": "code",
   "execution_count": 188,
   "metadata": {},
   "outputs": [
    {
     "data": {
      "text/plain": [
       "1.2094292028881888"
      ]
     },
     "execution_count": 188,
     "metadata": {},
     "output_type": "execute_result"
    }
   ],
   "source": [
    "x = np.array([1,1])\n",
    "y = np.array([-1,1])\n",
    "A = np.array([[2,-1],[-1,4]])\n",
    "\n",
    "angleinrad(x,y,A)"
   ]
  },
  {
   "cell_type": "code",
   "execution_count": 191,
   "metadata": {},
   "outputs": [
    {
     "data": {
      "text/plain": [
       "2.6905658417935308"
      ]
     },
     "execution_count": 191,
     "metadata": {},
     "output_type": "execute_result"
    }
   ],
   "source": [
    "x = np.array([0,-1])\n",
    "y = np.array([1,1])\n",
    "A = np.array([[1,-1/2],[-1/2,5]])\n",
    "\n",
    "angleinrad(x,y,A)"
   ]
  },
  {
   "cell_type": "code",
   "execution_count": 192,
   "metadata": {},
   "outputs": [
    {
     "data": {
      "text/plain": [
       "3.141592653589793"
      ]
     },
     "execution_count": 192,
     "metadata": {},
     "output_type": "execute_result"
    }
   ],
   "source": [
    "x = np.array([2,2])\n",
    "y = np.array([-2,-2])\n",
    "A = np.array([[2,1],[1,4]])\n",
    "\n",
    "angleinrad(x,y,A)"
   ]
  },
  {
   "cell_type": "code",
   "execution_count": 193,
   "metadata": {},
   "outputs": [
    {
     "data": {
      "text/plain": [
       "2.300523983021863"
      ]
     },
     "execution_count": 193,
     "metadata": {},
     "output_type": "execute_result"
    }
   ],
   "source": [
    "x = np.array([1,1])\n",
    "y = np.array([1,-1])\n",
    "A = np.array([[1,0],[0,5]])\n",
    "\n",
    "angleinrad(x,y,A)"
   ]
  },
  {
   "cell_type": "code",
   "execution_count": 194,
   "metadata": {},
   "outputs": [
    {
     "data": {
      "text/plain": [
       "1.3652273956337226"
      ]
     },
     "execution_count": 194,
     "metadata": {},
     "output_type": "execute_result"
    }
   ],
   "source": [
    "x = np.array([1,1,1])\n",
    "y = np.array([2,-1,0])\n",
    "A = np.array([[1,0,0],[0,2,-1],[0,-1,3]])\n",
    "\n",
    "angleinrad(x,y,A)"
   ]
  },
  {
   "cell_type": "code",
   "execution_count": 195,
   "metadata": {},
   "outputs": [
    {
     "data": {
      "text/plain": [
       "0.6435011087932843"
      ]
     },
     "execution_count": 195,
     "metadata": {},
     "output_type": "execute_result"
    }
   ],
   "source": [
    "np.arccos(4/5)"
   ]
  },
  {
   "cell_type": "code",
   "execution_count": 230,
   "metadata": {},
   "outputs": [],
   "source": [
    "def projectionmat(b):\n",
    "    b = np.array(b)\n",
    "    return np.outer(b.T, b), b.dot(b)"
   ]
  },
  {
   "cell_type": "code",
   "execution_count": 231,
   "metadata": {},
   "outputs": [
    {
     "data": {
      "text/plain": [
       "(array([[1, 2, 2],\n",
       "        [2, 4, 4],\n",
       "        [2, 4, 4]]),\n",
       " 9)"
      ]
     },
     "execution_count": 231,
     "metadata": {},
     "output_type": "execute_result"
    }
   ],
   "source": [
    "projectionmat([1,2,2])"
   ]
  },
  {
   "cell_type": "code",
   "execution_count": 244,
   "metadata": {},
   "outputs": [],
   "source": [
    "def projection(x, b):\n",
    "    x = np.array(x)\n",
    "    b = np.array(b)\n",
    "    return (np.outer(x.T, b),b.dot(b)), b"
   ]
  },
  {
   "cell_type": "code",
   "execution_count": 245,
   "metadata": {},
   "outputs": [
    {
     "data": {
      "text/plain": [
       "((array([[3, 0, 4],\n",
       "         [3, 0, 4],\n",
       "         [3, 0, 4]]),\n",
       "  25),\n",
       " array([3, 0, 4]))"
      ]
     },
     "execution_count": 245,
     "metadata": {},
     "output_type": "execute_result"
    }
   ],
   "source": [
    "projection([1,1,1],[3,0,4])"
   ]
  },
  {
   "cell_type": "code",
   "execution_count": 246,
   "metadata": {},
   "outputs": [],
   "source": [
    "pm, _ = projectionmat([3,0,4])"
   ]
  },
  {
   "cell_type": "code",
   "execution_count": 248,
   "metadata": {},
   "outputs": [
    {
     "data": {
      "text/plain": [
       "array([21,  0, 28])"
      ]
     },
     "execution_count": 248,
     "metadata": {},
     "output_type": "execute_result"
    }
   ],
   "source": [
    "pm @ [1,1,1]"
   ]
  },
  {
   "cell_type": "code",
   "execution_count": 250,
   "metadata": {},
   "outputs": [],
   "source": [
    "a = np.array([1,1,1])\n",
    "p = np.array([5/9, 10/9, 10/9])"
   ]
  },
  {
   "cell_type": "code",
   "execution_count": 254,
   "metadata": {},
   "outputs": [
    {
     "data": {
      "text/plain": [
       "0.4714045207910317"
      ]
     },
     "execution_count": 254,
     "metadata": {},
     "output_type": "execute_result"
    }
   ],
   "source": [
    "np.sqrt((a - p).dot((a-p).T))"
   ]
  },
  {
   "cell_type": "code",
   "execution_count": 332,
   "metadata": {},
   "outputs": [],
   "source": [
    "def projection3dto2d(x,B):\n",
    "    x = np.array(x)\n",
    "    B = np.array(B)\n",
    "    # (3x2 . 2x3) = 3x3\n",
    "    lmbda = (np.linalg.inv(B.T@B)) @ (B.T@x)\n",
    "    projected_points = B @ lmbda \n",
    "    pm = B @ (np.linalg.inv(B.T@B)) @ B.T\n",
    "    return lmbda, projected_points, pm, np.linalg.matrix_rank(pm)\n",
    "    "
   ]
  },
  {
   "cell_type": "code",
   "execution_count": 333,
   "metadata": {},
   "outputs": [
    {
     "data": {
      "text/plain": [
       "(array([-1.,  3.]),\n",
       " array([2., 1., 0.]),\n",
       " array([[ 1.0000000e+00, -4.4408921e-16,  0.0000000e+00],\n",
       "        [-4.4408921e-16,  1.0000000e+00,  0.0000000e+00],\n",
       "        [ 0.0000000e+00,  0.0000000e+00,  0.0000000e+00]]),\n",
       " 2)"
      ]
     },
     "execution_count": 333,
     "metadata": {},
     "output_type": "execute_result"
    }
   ],
   "source": [
    "projection3dto2d([2,1,1],[[1,1],[2,1],[0,0]])"
   ]
  },
  {
   "cell_type": "code",
   "execution_count": 334,
   "metadata": {},
   "outputs": [
    {
     "data": {
      "text/plain": [
       "(array([ 5., -3.]),\n",
       " array([ 5.,  2., -1.]),\n",
       " array([[ 0.83333333,  0.33333333, -0.16666667],\n",
       "        [ 0.33333333,  0.33333333,  0.33333333],\n",
       "        [-0.16666667,  0.33333333,  0.83333333]]),\n",
       " 2)"
      ]
     },
     "execution_count": 334,
     "metadata": {},
     "output_type": "execute_result"
    }
   ],
   "source": [
    "projection3dto2d([6,0,0],[[1,0],[1,1],[1,2]])"
   ]
  },
  {
   "cell_type": "code",
   "execution_count": 318,
   "metadata": {},
   "outputs": [
    {
     "data": {
      "text/plain": [
       "0.16666666666666666"
      ]
     },
     "execution_count": 318,
     "metadata": {},
     "output_type": "execute_result"
    }
   ],
   "source": [
    "1/6"
   ]
  },
  {
   "cell_type": "code",
   "execution_count": 305,
   "metadata": {},
   "outputs": [
    {
     "data": {
      "text/plain": [
       "(array([3., 2.]), array([3., 2., 2.]))"
      ]
     },
     "execution_count": 305,
     "metadata": {},
     "output_type": "execute_result"
    }
   ],
   "source": [
    "projection3dto2d([3,2,2],[[1,0],[0,1],[0,1]])"
   ]
  },
  {
   "cell_type": "code",
   "execution_count": 306,
   "metadata": {},
   "outputs": [
    {
     "data": {
      "text/plain": [
       "(array([10., -6.]), array([10.,  4., -2.]))"
      ]
     },
     "execution_count": 306,
     "metadata": {},
     "output_type": "execute_result"
    }
   ],
   "source": [
    "projection3dto2d([12,0,0],[[1,0],[1,1],[1,2]])"
   ]
  },
  {
   "cell_type": "code",
   "execution_count": null,
   "metadata": {},
   "outputs": [],
   "source": [
    "projection(10.,  4., -2.], 10.,  4., -2.])"
   ]
  },
  {
   "cell_type": "code",
   "execution_count": null,
   "metadata": {},
   "outputs": [],
   "source": []
  },
  {
   "cell_type": "code",
   "execution_count": 339,
   "metadata": {},
   "outputs": [
    {
     "data": {
      "text/plain": [
       "100"
      ]
     },
     "execution_count": 339,
     "metadata": {},
     "output_type": "execute_result"
    }
   ],
   "source": [
    "n=10\n",
    "len([(i,j) for j in range(n) for i in range(n)])"
   ]
  },
  {
   "cell_type": "code",
   "execution_count": null,
   "metadata": {},
   "outputs": [],
   "source": []
  }
 ],
 "metadata": {
  "kernelspec": {
   "display_name": "Python 3",
   "language": "python",
   "name": "python3"
  },
  "language_info": {
   "codemirror_mode": {
    "name": "ipython",
    "version": 3
   },
   "file_extension": ".py",
   "mimetype": "text/x-python",
   "name": "python",
   "nbconvert_exporter": "python",
   "pygments_lexer": "ipython3",
   "version": "3.8.5"
  }
 },
 "nbformat": 4,
 "nbformat_minor": 4
}
