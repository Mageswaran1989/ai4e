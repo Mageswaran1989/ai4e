{
 "cells": [
  {
   "cell_type": "code",
   "execution_count": 1,
   "metadata": {},
   "outputs": [],
   "source": [
    "# from math import log\n",
    "# from numpy import array\n",
    "# from numpy import argmax\n",
    "\n",
    "# # beam search\n",
    "# def beam_search_decoder(data, k):\n",
    "#   sequences = [[list(), 1.0]]\n",
    "#   # walk over each step in sequence\n",
    "#   for row in data:\n",
    "#     all_candidates = list()\n",
    "#     # expand each current candidate\n",
    "#     for i in range(len(sequences)):\n",
    "#       seq, score = sequences[i]\n",
    "#       for j in range(len(row)):\n",
    "#         candidate = [seq + [j], score * -log(row[j])]\n",
    "#         print(candidate)\n",
    "#         all_candidates.append(candidate)\n",
    "#     # order all candidates by score\n",
    "#     ordered = sorted(all_candidates, key=lambda tup:tup[1])\n",
    "#     # select k best\n",
    "#     sequences = ordered[:k]\n",
    "#     print(\"-------------------------------\")\n",
    "#   return sequences\n",
    "\n",
    "# # define a sequence of 10 words over a vocab of 5 words\n",
    "# data = [[0.1, 0.2, 0.3, 0.4, 0.5],\n",
    "#     [0.5, 0.4, 0.3, 0.2, 0.1],\n",
    "#     [0.1, 0.2, 0.3, 0.4, 0.5],\n",
    "#     [0.5, 0.4, 0.3, 0.2, 0.1],\n",
    "#     [0.1, 0.2, 0.3, 0.4, 0.5],\n",
    "#     [0.5, 0.4, 0.3, 0.2, 0.1],\n",
    "#     [0.1, 0.2, 0.3, 0.4, 0.5],\n",
    "#     [0.5, 0.4, 0.3, 0.2, 0.1],\n",
    "#     [0.1, 0.2, 0.3, 0.4, 0.5],\n",
    "#     [0.5, 0.4, 0.3, 0.2, 0.1]]\n",
    "# data = array(data)\n",
    "# # decode sequence\n",
    "# result = beam_search_decoder(data, 3)\n",
    "\n",
    "# print(\"===========================================\")\n",
    "# # print result\n",
    "# for seq in result:\n",
    "#   print(seq)"
   ]
  },
  {
   "cell_type": "code",
   "execution_count": 15,
   "metadata": {},
   "outputs": [],
   "source": [
    "import yaml\n",
    "import os"
   ]
  },
  {
   "cell_type": "code",
   "execution_count": 8,
   "metadata": {},
   "outputs": [
    {
     "name": "stdout",
     "output_type": "stream",
     "text": [
      "ls: cannot access '/opt/vh/DataPlatform/pipeline/src/config/dataquality/management/completeness_tests.yaml': No such file or directory\n"
     ]
    }
   ],
   "source": [
    "!ls /opt/vh/DataPlatform/pipeline/src/config/dataquality/management/completeness_tests.yaml"
   ]
  },
  {
   "cell_type": "code",
   "execution_count": 28,
   "metadata": {},
   "outputs": [],
   "source": [
    "yaml_path = \"/opt/vh/DataPlatform/pipeline/src/config/dataquality/management/yaml/clinical_completeness_tests_dqm.yaml\""
   ]
  },
  {
   "cell_type": "code",
   "execution_count": 29,
   "metadata": {},
   "outputs": [],
   "source": [
    "# !cat /opt/vh/DataPlatform/pipeline/src/config/dataquality/management/yaml/dqm_timeliness_tests.yaml"
   ]
  },
  {
   "cell_type": "code",
   "execution_count": 30,
   "metadata": {},
   "outputs": [
    {
     "name": "stderr",
     "output_type": "stream",
     "text": [
      "/home/mageswarand/anaconda3/envs/vh/lib/python3.6/site-packages/ipykernel_launcher.py:2: YAMLLoadWarning: calling yaml.load() without Loader=... is deprecated, as the default Loader is unsafe. Please read https://msg.pyyaml.org/load for full details.\n",
      "  \n"
     ]
    },
    {
     "data": {
      "text/plain": [
       "[{'test_family_name': 'Consistency',\n",
       "  'type': 'Consistency',\n",
       "  'pipeline_name': 'Iris2',\n",
       "  'dataset_name': 'primavera',\n",
       "  'is_active': True,\n",
       "  'primary_col': 'PATIENT_UID',\n",
       "  'min_weeks': 0,\n",
       "  'max_weeks': 100,\n",
       "  'dynamic_tables_spec': [{'class': 'None'},\n",
       "   {'sql': {'alias': 'XYZ', 'text': 'select * from table_name\\n'}}],\n",
       "  'user_arguments': {'IOP': {'start_yr': 2013,\n",
       "    'end_yr': 2020,\n",
       "    'dx_date': 'documentation_date',\n",
       "    'px_date': 'procedure_date',\n",
       "    'end_pt_date': 'result_date',\n",
       "    'end_pt_lat_col': 'eye',\n",
       "    'end_pt_lat_range': [1, 2, 3],\n",
       "    'end_pt_col': 'iop',\n",
       "    'end_pt_range': [0, 100]},\n",
       "   'VA': {'start_yr': 2013,\n",
       "    'end_yr': 2020,\n",
       "    'dx_date': 'documentation_date',\n",
       "    'px_date': 'procedure_date',\n",
       "    'end_pt_col1': 'near_value',\n",
       "    'end_pt_col2': 'logmar',\n",
       "    'end_pt_col2_range': [-0.1, 4],\n",
       "    'end_pt_date': 'result_date',\n",
       "    'end_pt_lat_col': 'eye',\n",
       "    'end_pt_lat_range': [1, 2, 3]}},\n",
       "  'test_tables': {'test_table_1': {'name': 'PATIENT_PROBLEM',\n",
       "    'consitency_col': 'PROBLEM_DATE',\n",
       "    'filter_cond': {'column_name': 'PROBLEM_DATE',\n",
       "     'expected_value': 'NA',\n",
       "     'condition_1': 2013,\n",
       "     'condition_2': 2020},\n",
       "    'join_conditions': [{'table_name': 'NA',\n",
       "      'join_key_column': 'NA',\n",
       "      'how': 'NA'}],\n",
       "    'other_table': {'name': 'PATIENT_PROCEDURE',\n",
       "     'consitency_col': 'PROCEDURE_DATE',\n",
       "     'filter_cond': {'column_name': 'PROCEDURE_DATE',\n",
       "      'expected_value': None,\n",
       "      'condition_1': 2013,\n",
       "      'condition_2': 2020},\n",
       "     'join_conditions': [{'table_name': 'NA',\n",
       "       'join_key_column': 'NA',\n",
       "       'how': 'NA'}]}},\n",
       "   'test_table_2': {'name': 'PATIENT_PROBLEM',\n",
       "    'consitency_col': 'PROBLEM_DATE',\n",
       "    'filter_cond': {'column_name': 'PROBLEM_DATE',\n",
       "     'expected_value': 'NA',\n",
       "     'condition_1': 2013,\n",
       "     'condition_2': 2020},\n",
       "    'join_conditions': [{'table_name': 'NA',\n",
       "      'join_key_column': 'NA',\n",
       "      'how': 'NA'}],\n",
       "    'other_table': {'name': 'PATIENT_RESULT_VA',\n",
       "     'consitency_col': 'PATIENT_RESULT_DATE',\n",
       "     'filter_cond': {'column_name': 'PATIENT_RESULT_DATE',\n",
       "      'expected_value': 'NA',\n",
       "      'condition_1': 2013,\n",
       "      'condition_2': 2020},\n",
       "     'join_conditions': [{'table_name': 'NA',\n",
       "       'join_key_column': 'NA',\n",
       "       'how': 'NA'}]}}},\n",
       "  'roll_ups': [{'name': 'PRACTICE',\n",
       "    'table_name': 'PRACTICE',\n",
       "    'col_name': 'PRACTICE_ID',\n",
       "    'distinct_columns': ['PRACTICE_ID'],\n",
       "    'exclude_col_list': ['PRACTICE_ID'],\n",
       "    'aggregate_spec': {'table_name': 'PROVIDER_PRACTICE_PATIENT_DTABLE',\n",
       "     'key': 'PATIENT_UID',\n",
       "     'agg_field': 'PRACTICE_ID'},\n",
       "    'pool_method': 'SUM'},\n",
       "   {'name': 'EMR',\n",
       "    'table_name': 'PRACTICE',\n",
       "    'col_name': 'EMR_NAME',\n",
       "    'distinct_columns': ['EMR_NAME'],\n",
       "    'exclude_col_list': ['PRACTICE_ID'],\n",
       "    'aggregate_spec': {'table_name': 'PROVIDER_PRACTICE_PATIENT_DTABLE',\n",
       "     'key': 'PATIENT_UID',\n",
       "     'agg_field': 'EMR_NAME'},\n",
       "    'pool_method': 'SUM'}]}]"
      ]
     },
     "execution_count": 30,
     "metadata": {},
     "output_type": "execute_result"
    }
   ],
   "source": [
    "with open(yaml_path) as stream:\n",
    "    yaml_spec = yaml.load(stream)\n",
    "yaml_spec"
   ]
  },
  {
   "cell_type": "code",
   "execution_count": 32,
   "metadata": {},
   "outputs": [
    {
     "data": {
      "text/plain": [
       "{'IOP': {'start_yr': 2013,\n",
       "  'end_yr': 2020,\n",
       "  'dx_date': 'documentation_date',\n",
       "  'px_date': 'procedure_date',\n",
       "  'end_pt_date': 'result_date',\n",
       "  'end_pt_lat_col': 'eye',\n",
       "  'end_pt_lat_range': [1, 2, 3],\n",
       "  'end_pt_col': 'iop',\n",
       "  'end_pt_range': [0, 100]},\n",
       " 'VA': {'start_yr': 2013,\n",
       "  'end_yr': 2020,\n",
       "  'dx_date': 'documentation_date',\n",
       "  'px_date': 'procedure_date',\n",
       "  'end_pt_col1': 'near_value',\n",
       "  'end_pt_col2': 'logmar',\n",
       "  'end_pt_col2_range': [-0.1, 4],\n",
       "  'end_pt_date': 'result_date',\n",
       "  'end_pt_lat_col': 'eye',\n",
       "  'end_pt_lat_range': [1, 2, 3]}}"
      ]
     },
     "execution_count": 32,
     "metadata": {},
     "output_type": "execute_result"
    }
   ],
   "source": [
    "yaml_spec[0]['user_arguments']"
   ]
  },
  {
   "cell_type": "code",
   "execution_count": 13,
   "metadata": {},
   "outputs": [],
   "source": [
    "yaml_root_path = \"/opt/vh/DataPlatform/pipeline/src/config/dataquality/management/yaml/\""
   ]
  },
  {
   "cell_type": "code",
   "execution_count": 21,
   "metadata": {},
   "outputs": [
    {
     "name": "stderr",
     "output_type": "stream",
     "text": [
      "/home/mageswarand/anaconda3/envs/vh/lib/python3.6/site-packages/ipykernel_launcher.py:5: YAMLLoadWarning: calling yaml.load() without Loader=... is deprecated, as the default Loader is unsafe. Please read https://msg.pyyaml.org/load for full details.\n",
      "  \"\"\"\n"
     ]
    }
   ],
   "source": [
    "yaml_specs = []\n",
    "for root, folder, files in os.walk(yaml_root_path):\n",
    "    for yaml_file in files:\n",
    "        with open(root+\"/\"+yaml_file) as yaml_stream:\n",
    "            yaml_specs.append(yaml.load(yaml_stream))"
   ]
  },
  {
   "cell_type": "code",
   "execution_count": 23,
   "metadata": {},
   "outputs": [],
   "source": [
    "# yaml_specs"
   ]
  },
  {
   "cell_type": "code",
   "execution_count": null,
   "metadata": {},
   "outputs": [],
   "source": []
  }
 ],
 "metadata": {
  "kernelspec": {
   "display_name": "Python 3",
   "language": "python",
   "name": "python3"
  },
  "language_info": {
   "codemirror_mode": {
    "name": "ipython",
    "version": 3
   },
   "file_extension": ".py",
   "mimetype": "text/x-python",
   "name": "python",
   "nbconvert_exporter": "python",
   "pygments_lexer": "ipython3",
   "version": "3.6.9"
  }
 },
 "nbformat": 4,
 "nbformat_minor": 4
}
