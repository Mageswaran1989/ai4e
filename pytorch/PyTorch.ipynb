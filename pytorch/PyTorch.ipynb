{
 "cells": [
  {
   "cell_type": "code",
   "execution_count": 15,
   "metadata": {},
   "outputs": [],
   "source": [
    "import torch\n",
    "import numpy as np"
   ]
  },
  {
   "cell_type": "code",
   "execution_count": 5,
   "metadata": {},
   "outputs": [],
   "source": [
    "def describe(x):\n",
    "    print(\"Type: {}\".format(x.type()))\n",
    "    print(\"Shape/size: {}\".format(x.shape))\n",
    "    print(\"Values: \\n{}\".format(x))\n"
   ]
  },
  {
   "cell_type": "code",
   "execution_count": 6,
   "metadata": {},
   "outputs": [
    {
     "name": "stdout",
     "output_type": "stream",
     "text": [
      "Type: torch.FloatTensor\n",
      "Shape/size: torch.Size([2, 3])\n",
      "Values: \n",
      "tensor([[0., 0., 0.],\n",
      "        [0., 0., 0.]])\n"
     ]
    }
   ],
   "source": [
    "describe(torch.Tensor(2,3))"
   ]
  },
  {
   "cell_type": "code",
   "execution_count": 7,
   "metadata": {},
   "outputs": [
    {
     "name": "stdout",
     "output_type": "stream",
     "text": [
      "Type: torch.FloatTensor\n",
      "Shape/size: torch.Size([3, 3])\n",
      "Values: \n",
      "tensor([[0.2230, 0.4976, 0.6244],\n",
      "        [0.1407, 0.2002, 0.8327],\n",
      "        [0.3801, 0.6883, 0.2893]])\n"
     ]
    }
   ],
   "source": [
    "describe(torch.rand(3,3))"
   ]
  },
  {
   "cell_type": "code",
   "execution_count": 8,
   "metadata": {},
   "outputs": [
    {
     "name": "stdout",
     "output_type": "stream",
     "text": [
      "Type: torch.FloatTensor\n",
      "Shape/size: torch.Size([1])\n",
      "Values: \n",
      "tensor([1.])\n"
     ]
    }
   ],
   "source": [
    "describe(torch.ones(1))"
   ]
  },
  {
   "cell_type": "code",
   "execution_count": 31,
   "metadata": {},
   "outputs": [
    {
     "name": "stdout",
     "output_type": "stream",
     "text": [
      "Type: torch.FloatTensor\n",
      "Shape/size: torch.Size([4, 4])\n",
      "Values: \n",
      "tensor([[0., 0., 0., 0.],\n",
      "        [0., 0., 0., 0.],\n",
      "        [0., 0., 0., 0.],\n",
      "        [0., 0., 0., 0.]])\n"
     ]
    }
   ],
   "source": [
    "X = torch.zeros(4,4)\n",
    "describe(X)"
   ]
  },
  {
   "cell_type": "code",
   "execution_count": 32,
   "metadata": {},
   "outputs": [
    {
     "data": {
      "text/plain": [
       "tensor([[5., 5., 5., 5.],\n",
       "        [5., 5., 5., 5.],\n",
       "        [5., 5., 5., 5.],\n",
       "        [5., 5., 5., 5.]])"
      ]
     },
     "execution_count": 32,
     "metadata": {},
     "output_type": "execute_result"
    }
   ],
   "source": [
    "X.fill_(5)"
   ]
  },
  {
   "cell_type": "code",
   "execution_count": 33,
   "metadata": {},
   "outputs": [
    {
     "name": "stdout",
     "output_type": "stream",
     "text": [
      "Type: torch.FloatTensor\n",
      "Shape/size: torch.Size([4, 4])\n",
      "Values: \n",
      "tensor([[5., 5., 5., 5.],\n",
      "        [5., 5., 5., 5.],\n",
      "        [5., 5., 5., 5.],\n",
      "        [5., 5., 5., 5.]])\n"
     ]
    }
   ],
   "source": [
    "describe(X)"
   ]
  },
  {
   "cell_type": "code",
   "execution_count": 34,
   "metadata": {},
   "outputs": [
    {
     "name": "stdout",
     "output_type": "stream",
     "text": [
      "Type: torch.DoubleTensor\n",
      "Shape/size: torch.Size([3, 4])\n",
      "Values: \n",
      "tensor([[0.3212, 0.7687, 0.9539, 0.8021],\n",
      "        [0.7139, 0.9326, 0.6661, 0.9424],\n",
      "        [0.8350, 0.0590, 0.1158, 0.1638]], dtype=torch.float64)\n"
     ]
    }
   ],
   "source": [
    "npy_arr = np.random.rand(3,4)\n",
    "describe(torch.from_numpy(npy_arr))"
   ]
  },
  {
   "cell_type": "code",
   "execution_count": 35,
   "metadata": {},
   "outputs": [
    {
     "name": "stdout",
     "output_type": "stream",
     "text": [
      "Type: torch.LongTensor\n",
      "Shape/size: torch.Size([4, 4])\n",
      "Values: \n",
      "tensor([[5, 5, 5, 5],\n",
      "        [5, 5, 5, 5],\n",
      "        [5, 5, 5, 5],\n",
      "        [5, 5, 5, 5]])\n"
     ]
    }
   ],
   "source": [
    "X = X.long()\n",
    "describe(X)"
   ]
  },
  {
   "cell_type": "code",
   "execution_count": 36,
   "metadata": {},
   "outputs": [
    {
     "data": {
      "text/plain": [
       "tensor([[10, 10, 10, 10],\n",
       "        [10, 10, 10, 10],\n",
       "        [10, 10, 10, 10],\n",
       "        [10, 10, 10, 10]])"
      ]
     },
     "execution_count": 36,
     "metadata": {},
     "output_type": "execute_result"
    }
   ],
   "source": [
    "X.add(X)"
   ]
  },
  {
   "cell_type": "code",
   "execution_count": 37,
   "metadata": {},
   "outputs": [
    {
     "data": {
      "text/plain": [
       "tensor([[5, 5, 5, 5],\n",
       "        [5, 5, 5, 5],\n",
       "        [5, 5, 5, 5],\n",
       "        [5, 5, 5, 5]])"
      ]
     },
     "execution_count": 37,
     "metadata": {},
     "output_type": "execute_result"
    }
   ],
   "source": [
    "X"
   ]
  },
  {
   "cell_type": "code",
   "execution_count": 38,
   "metadata": {},
   "outputs": [
    {
     "data": {
      "text/plain": [
       "tensor([[10, 10, 10, 10],\n",
       "        [10, 10, 10, 10],\n",
       "        [10, 10, 10, 10],\n",
       "        [10, 10, 10, 10]])"
      ]
     },
     "execution_count": 38,
     "metadata": {},
     "output_type": "execute_result"
    }
   ],
   "source": [
    "X.add_(X)"
   ]
  },
  {
   "cell_type": "code",
   "execution_count": 39,
   "metadata": {},
   "outputs": [
    {
     "name": "stdout",
     "output_type": "stream",
     "text": [
      "Type: torch.LongTensor\n",
      "Shape/size: torch.Size([4, 4])\n",
      "Values: \n",
      "tensor([[10, 10, 10, 10],\n",
      "        [10, 10, 10, 10],\n",
      "        [10, 10, 10, 10],\n",
      "        [10, 10, 10, 10]])\n"
     ]
    }
   ],
   "source": [
    "describe(X)"
   ]
  },
  {
   "cell_type": "code",
   "execution_count": 44,
   "metadata": {},
   "outputs": [
    {
     "name": "stdout",
     "output_type": "stream",
     "text": [
      "Type: torch.FloatTensor\n",
      "Shape/size: torch.Size([4, 4])\n",
      "Values: \n",
      "tensor([[0.4585, 0.3013, 0.7134, 0.7328],\n",
      "        [0.2468, 0.2843, 0.1135, 0.4352],\n",
      "        [0.5591, 0.6337, 0.4613, 0.3998],\n",
      "        [0.6619, 0.5526, 0.4864, 0.4647]])\n",
      "Type: torch.FloatTensor\n",
      "Shape/size: torch.Size([4, 2])\n",
      "Values: \n",
      "tensor([[0.4585, 0.7134],\n",
      "        [0.2468, 0.1135],\n",
      "        [0.5591, 0.4613],\n",
      "        [0.6619, 0.4864]])\n"
     ]
    }
   ],
   "source": [
    "X = torch.rand(4,4)\n",
    "describe(X)\n",
    "indeces = torch.LongTensor([0,2])\n",
    "describe(X.index_select(dim=1, index=indeces))"
   ]
  },
  {
   "cell_type": "code",
   "execution_count": 46,
   "metadata": {},
   "outputs": [
    {
     "name": "stdout",
     "output_type": "stream",
     "text": [
      "Type: torch.FloatTensor\n",
      "Shape/size: torch.Size([2])\n",
      "Values: \n",
      "tensor([0.2468, 0.4864])\n"
     ]
    }
   ],
   "source": [
    "describe(X[[1,3],[0,2]])"
   ]
  },
  {
   "cell_type": "code",
   "execution_count": 47,
   "metadata": {},
   "outputs": [
    {
     "name": "stdout",
     "output_type": "stream",
     "text": [
      "Type: torch.FloatTensor\n",
      "Shape/size: torch.Size([8, 4])\n",
      "Values: \n",
      "tensor([[0.4585, 0.3013, 0.7134, 0.7328],\n",
      "        [0.2468, 0.2843, 0.1135, 0.4352],\n",
      "        [0.5591, 0.6337, 0.4613, 0.3998],\n",
      "        [0.6619, 0.5526, 0.4864, 0.4647],\n",
      "        [0.4585, 0.3013, 0.7134, 0.7328],\n",
      "        [0.2468, 0.2843, 0.1135, 0.4352],\n",
      "        [0.5591, 0.6337, 0.4613, 0.3998],\n",
      "        [0.6619, 0.5526, 0.4864, 0.4647]])\n"
     ]
    }
   ],
   "source": [
    "describe(torch.cat([X,X], dim=0))"
   ]
  },
  {
   "cell_type": "code",
   "execution_count": 48,
   "metadata": {},
   "outputs": [
    {
     "name": "stdout",
     "output_type": "stream",
     "text": [
      "Type: torch.FloatTensor\n",
      "Shape/size: torch.Size([4, 8])\n",
      "Values: \n",
      "tensor([[0.4585, 0.3013, 0.7134, 0.7328, 0.4585, 0.3013, 0.7134, 0.7328],\n",
      "        [0.2468, 0.2843, 0.1135, 0.4352, 0.2468, 0.2843, 0.1135, 0.4352],\n",
      "        [0.5591, 0.6337, 0.4613, 0.3998, 0.5591, 0.6337, 0.4613, 0.3998],\n",
      "        [0.6619, 0.5526, 0.4864, 0.4647, 0.6619, 0.5526, 0.4864, 0.4647]])\n"
     ]
    }
   ],
   "source": [
    "describe(torch.cat([X,X], dim=1))"
   ]
  },
  {
   "cell_type": "code",
   "execution_count": 50,
   "metadata": {},
   "outputs": [
    {
     "name": "stdout",
     "output_type": "stream",
     "text": [
      "Type: torch.FloatTensor\n",
      "Shape/size: torch.Size([2, 4, 4])\n",
      "Values: \n",
      "tensor([[[0.4585, 0.3013, 0.7134, 0.7328],\n",
      "         [0.2468, 0.2843, 0.1135, 0.4352],\n",
      "         [0.5591, 0.6337, 0.4613, 0.3998],\n",
      "         [0.6619, 0.5526, 0.4864, 0.4647]],\n",
      "\n",
      "        [[0.4585, 0.3013, 0.7134, 0.7328],\n",
      "         [0.2468, 0.2843, 0.1135, 0.4352],\n",
      "         [0.5591, 0.6337, 0.4613, 0.3998],\n",
      "         [0.6619, 0.5526, 0.4864, 0.4647]]])\n"
     ]
    }
   ],
   "source": [
    "describe(torch.stack([X,X], dim=0))"
   ]
  },
  {
   "cell_type": "code",
   "execution_count": 52,
   "metadata": {},
   "outputs": [
    {
     "name": "stdout",
     "output_type": "stream",
     "text": [
      "Type: torch.FloatTensor\n",
      "Shape/size: torch.Size([4, 4, 2])\n",
      "Values: \n",
      "tensor([[[0.4585, 0.4585],\n",
      "         [0.3013, 0.3013],\n",
      "         [0.7134, 0.7134],\n",
      "         [0.7328, 0.7328]],\n",
      "\n",
      "        [[0.2468, 0.2468],\n",
      "         [0.2843, 0.2843],\n",
      "         [0.1135, 0.1135],\n",
      "         [0.4352, 0.4352]],\n",
      "\n",
      "        [[0.5591, 0.5591],\n",
      "         [0.6337, 0.6337],\n",
      "         [0.4613, 0.4613],\n",
      "         [0.3998, 0.3998]],\n",
      "\n",
      "        [[0.6619, 0.6619],\n",
      "         [0.5526, 0.5526],\n",
      "         [0.4864, 0.4864],\n",
      "         [0.4647, 0.4647]]])\n"
     ]
    }
   ],
   "source": [
    "describe(torch.stack([X,X], dim=-1))"
   ]
  },
  {
   "cell_type": "code",
   "execution_count": 55,
   "metadata": {},
   "outputs": [
    {
     "name": "stdout",
     "output_type": "stream",
     "text": [
      "Type: torch.FloatTensor\n",
      "Shape/size: torch.Size([3, 3])\n",
      "Values: \n",
      "tensor([[1., 2., 1.],\n",
      "        [1., 2., 1.],\n",
      "        [1., 2., 1.]])\n"
     ]
    }
   ],
   "source": [
    "x2 = torch.ones(3,3)\n",
    "x2[:, 1] += 1\n",
    "describe(x2)"
   ]
  },
  {
   "cell_type": "code",
   "execution_count": 56,
   "metadata": {},
   "outputs": [
    {
     "data": {
      "text/plain": [
       "True"
      ]
     },
     "execution_count": 56,
     "metadata": {},
     "output_type": "execute_result"
    }
   ],
   "source": [
    "torch.cuda.is_available()"
   ]
  },
  {
   "cell_type": "code",
   "execution_count": 59,
   "metadata": {},
   "outputs": [],
   "source": [
    "device=torch.device(\"cuda\" if torch.cuda.is_available() else \"cpu\")"
   ]
  },
  {
   "cell_type": "code",
   "execution_count": 61,
   "metadata": {},
   "outputs": [
    {
     "name": "stdout",
     "output_type": "stream",
     "text": [
      "Type: torch.cuda.FloatTensor\n",
      "Shape/size: torch.Size([3, 3])\n",
      "Values: \n",
      "tensor([[1., 1., 1.],\n",
      "        [1., 1., 1.],\n",
      "        [1., 1., 1.]], device='cuda:0')\n"
     ]
    }
   ],
   "source": [
    "x3 = torch.ones(3,3).to(device)\n",
    "describe(x3)"
   ]
  },
  {
   "cell_type": "code",
   "execution_count": 63,
   "metadata": {},
   "outputs": [
    {
     "name": "stdout",
     "output_type": "stream",
     "text": [
      "Type: torch.FloatTensor\n",
      "Shape/size: torch.Size([1, 3, 3])\n",
      "Values: \n",
      "tensor([[[0.7434, 0.0871, 0.7258],\n",
      "         [0.1761, 0.9086, 0.9831],\n",
      "         [0.4869, 0.8068, 0.0278]]])\n"
     ]
    }
   ],
   "source": [
    "describe(torch.rand(3,3).unsqueeze(0))"
   ]
  },
  {
   "cell_type": "code",
   "execution_count": 64,
   "metadata": {},
   "outputs": [
    {
     "name": "stdout",
     "output_type": "stream",
     "text": [
      "Type: torch.FloatTensor\n",
      "Shape/size: torch.Size([3, 1, 3])\n",
      "Values: \n",
      "tensor([[[0.2066, 0.7161, 0.7494]],\n",
      "\n",
      "        [[0.8819, 0.7476, 0.2757]],\n",
      "\n",
      "        [[0.2399, 0.7500, 0.7002]]])\n"
     ]
    }
   ],
   "source": [
    "describe(torch.rand(3,3).unsqueeze(1))"
   ]
  },
  {
   "cell_type": "code",
   "execution_count": 65,
   "metadata": {},
   "outputs": [
    {
     "name": "stdout",
     "output_type": "stream",
     "text": [
      "Type: torch.FloatTensor\n",
      "Shape/size: torch.Size([3, 3])\n",
      "Values: \n",
      "tensor([[0.2601, 0.8018, 0.0319],\n",
      "        [0.9402, 0.6333, 0.4285],\n",
      "        [0.1560, 0.0051, 0.4544]])\n"
     ]
    }
   ],
   "source": [
    "describe(torch.rand(3,1,3).squeeze(1))"
   ]
  },
  {
   "cell_type": "code",
   "execution_count": 66,
   "metadata": {},
   "outputs": [
    {
     "name": "stdout",
     "output_type": "stream",
     "text": [
      "Type: torch.LongTensor\n",
      "Shape/size: torch.Size([9, 3])\n",
      "Values: \n",
      "tensor([[0, 0, 0],\n",
      "        [0, 0, 1],\n",
      "        [0, 0, 2],\n",
      "        [1, 0, 0],\n",
      "        [1, 0, 1],\n",
      "        [1, 0, 2],\n",
      "        [2, 0, 0],\n",
      "        [2, 0, 1],\n",
      "        [2, 0, 2]])\n"
     ]
    }
   ],
   "source": [
    "describe(torch.nonzero(torch.rand(3,3).unsqueeze(1)))"
   ]
  },
  {
   "cell_type": "code",
   "execution_count": 69,
   "metadata": {},
   "outputs": [
    {
     "data": {
      "text/plain": [
       "tensor([[[0.7332, 1.4398, 1.4554, 1.5704],\n",
       "         [0.6896, 0.9189, 0.9328, 0.5451],\n",
       "         [1.1155, 1.1269, 1.6505, 1.5712],\n",
       "         [0.5632, 1.4065, 1.1653, 1.1523]],\n",
       "\n",
       "        [[2.4719, 1.1287, 1.1582, 2.4607],\n",
       "         [2.2123, 1.0695, 1.1937, 2.1155],\n",
       "         [0.9888, 0.8624, 0.8388, 1.0708],\n",
       "         [1.5408, 0.8933, 0.9366, 1.5755]],\n",
       "\n",
       "        [[1.5297, 1.4420, 0.6457, 0.6469],\n",
       "         [0.6691, 0.7633, 0.4576, 0.4797],\n",
       "         [1.5247, 1.1911, 0.9501, 0.9280],\n",
       "         [1.7648, 1.5603, 1.0617, 1.2420]]])"
      ]
     },
     "execution_count": 69,
     "metadata": {},
     "output_type": "execute_result"
    }
   ],
   "source": [
    "torch.bmm(torch.rand(3,4,5), torch.rand(3,5,4)) #baatch matrix multiplication"
   ]
  },
  {
   "cell_type": "code",
   "execution_count": 78,
   "metadata": {},
   "outputs": [
    {
     "data": {
      "text/plain": [
       "tensor([[0.3152],\n",
       "        [0.9534],\n",
       "        [0.0460]])"
      ]
     },
     "execution_count": 78,
     "metadata": {},
     "output_type": "execute_result"
    }
   ],
   "source": [
    "a = torch.rand(3,1)\n",
    "a"
   ]
  },
  {
   "cell_type": "code",
   "execution_count": 79,
   "metadata": {},
   "outputs": [
    {
     "data": {
      "text/plain": [
       "tensor([[0.3152, 0.3152, 0.3152, 0.3152],\n",
       "        [0.9534, 0.9534, 0.9534, 0.9534],\n",
       "        [0.0460, 0.0460, 0.0460, 0.0460]])"
      ]
     },
     "execution_count": 79,
     "metadata": {},
     "output_type": "execute_result"
    }
   ],
   "source": [
    "a.expand(3,4)"
   ]
  },
  {
   "cell_type": "code",
   "execution_count": 81,
   "metadata": {},
   "outputs": [
    {
     "data": {
      "text/plain": [
       "tensor([[[0.1410, 0.5186, 0.2427, 0.2520, 0.4199],\n",
       "         [0.1857, 0.7716, 0.3774, 0.4470, 0.0336],\n",
       "         [0.6317, 0.9594, 0.7915, 0.7598, 0.5691],\n",
       "         [0.3397, 0.7091, 0.6732, 0.3941, 0.2765]],\n",
       "\n",
       "        [[0.9202, 0.1289, 0.6579, 0.3061, 0.1608],\n",
       "         [0.6291, 0.5432, 0.9539, 0.2004, 0.2810],\n",
       "         [0.9733, 0.5054, 0.9686, 0.6228, 0.8171],\n",
       "         [0.1588, 0.8631, 0.0339, 0.3167, 0.9205]],\n",
       "\n",
       "        [[0.1206, 0.6956, 0.0281, 0.6132, 0.6217],\n",
       "         [0.5740, 0.3881, 0.5802, 0.5047, 0.1339],\n",
       "         [0.2441, 0.4169, 0.5146, 0.4848, 0.3182],\n",
       "         [0.1967, 0.9623, 0.3712, 0.7175, 0.8750]]])"
      ]
     },
     "execution_count": 81,
     "metadata": {},
     "output_type": "execute_result"
    }
   ],
   "source": [
    "a = torch.rand(3,4,5)\n",
    "a"
   ]
  },
  {
   "cell_type": "code",
   "execution_count": 86,
   "metadata": {},
   "outputs": [
    {
     "name": "stdout",
     "output_type": "stream",
     "text": [
      "Type: torch.FloatTensor\n",
      "Shape/size: torch.Size([5, 4])\n",
      "Values: \n",
      "tensor([[0.3532, 0.7941, 0.8981, 0.3257],\n",
      "        [0.1403, 0.4191, 0.4804, 0.3779],\n",
      "        [0.7730, 0.9995, 0.7120, 0.0107],\n",
      "        [0.7899, 0.0383, 0.3969, 0.3182],\n",
      "        [0.2849, 0.3831, 0.9830, 0.9556]])\n"
     ]
    }
   ],
   "source": [
    "b = torch.rand(5,4)\n",
    "describe(b)"
   ]
  },
  {
   "cell_type": "code",
   "execution_count": 91,
   "metadata": {},
   "outputs": [
    {
     "name": "stdout",
     "output_type": "stream",
     "text": [
      "Type: torch.FloatTensor\n",
      "Shape/size: torch.Size([3, 5, 4])\n",
      "Values: \n",
      "tensor([[[0.3532, 0.7941, 0.8981, 0.3257],\n",
      "         [0.1403, 0.4191, 0.4804, 0.3779],\n",
      "         [0.7730, 0.9995, 0.7120, 0.0107],\n",
      "         [0.7899, 0.0383, 0.3969, 0.3182],\n",
      "         [0.2849, 0.3831, 0.9830, 0.9556]],\n",
      "\n",
      "        [[0.3532, 0.7941, 0.8981, 0.3257],\n",
      "         [0.1403, 0.4191, 0.4804, 0.3779],\n",
      "         [0.7730, 0.9995, 0.7120, 0.0107],\n",
      "         [0.7899, 0.0383, 0.3969, 0.3182],\n",
      "         [0.2849, 0.3831, 0.9830, 0.9556]],\n",
      "\n",
      "        [[0.3532, 0.7941, 0.8981, 0.3257],\n",
      "         [0.1403, 0.4191, 0.4804, 0.3779],\n",
      "         [0.7730, 0.9995, 0.7120, 0.0107],\n",
      "         [0.7899, 0.0383, 0.3969, 0.3182],\n",
      "         [0.2849, 0.3831, 0.9830, 0.9556]]])\n"
     ]
    }
   ],
   "source": [
    "describe(b.unsqueeze(0).expand(3,5,4))"
   ]
  },
  {
   "cell_type": "code",
   "execution_count": 89,
   "metadata": {},
   "outputs": [
    {
     "data": {
      "text/plain": [
       "[5, 4]"
      ]
     },
     "execution_count": 89,
     "metadata": {},
     "output_type": "execute_result"
    }
   ],
   "source": []
  },
  {
   "cell_type": "code",
   "execution_count": null,
   "metadata": {},
   "outputs": [],
   "source": []
  }
 ],
 "metadata": {
  "kernelspec": {
   "display_name": "Python 3",
   "language": "python",
   "name": "python3"
  },
  "language_info": {
   "codemirror_mode": {
    "name": "ipython",
    "version": 3
   },
   "file_extension": ".py",
   "mimetype": "text/x-python",
   "name": "python",
   "nbconvert_exporter": "python",
   "pygments_lexer": "ipython3",
   "version": "3.6.9"
  }
 },
 "nbformat": 4,
 "nbformat_minor": 4
}
